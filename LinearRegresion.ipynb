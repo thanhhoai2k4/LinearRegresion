{
  "nbformat": 4,
  "nbformat_minor": 0,
  "metadata": {
    "colab": {
      "provenance": []
    },
    "kernelspec": {
      "name": "python3",
      "display_name": "Python 3"
    },
    "language_info": {
      "name": "python"
    }
  },
  "cells": [
    {
      "cell_type": "code",
      "execution_count": 5,
      "metadata": {
        "id": "bc1914ibDfqv"
      },
      "outputs": [],
      "source": [
        "import numpy as np\n",
        "import matplotlib.pyplot as plt"
      ]
    },
    {
      "cell_type": "code",
      "source": [
        "# Height(cm)\n",
        "X = np.array([[147, 150, 153, 158, 163, 165, 168, 170, 173, 175, 178, 180, 183]]).T\n",
        "# weight (kg)\n",
        "y = np.array([[ 49, 50, 51,  54, 58, 59, 60, 62, 63, 64, 66, 67, 68]]).T"
      ],
      "metadata": {
        "id": "VaitWAfCFJbG"
      },
      "execution_count": 2,
      "outputs": []
    },
    {
      "cell_type": "code",
      "source": [
        "X\n",
        "X.shape"
      ],
      "metadata": {
        "colab": {
          "base_uri": "https://localhost:8080/"
        },
        "id": "W2Kt2gaXFbA2",
        "outputId": "d0886878-5f17-4fb5-c627-778baccf41fb"
      },
      "execution_count": 11,
      "outputs": [
        {
          "output_type": "execute_result",
          "data": {
            "text/plain": [
              "(13, 1)"
            ]
          },
          "metadata": {},
          "execution_count": 11
        }
      ]
    },
    {
      "cell_type": "code",
      "source": [
        "y\n",
        "y.shape"
      ],
      "metadata": {
        "colab": {
          "base_uri": "https://localhost:8080/"
        },
        "id": "rWxExQqbFbxH",
        "outputId": "8e7b1154-3dad-4548-9938-89dc9bd2552e"
      },
      "execution_count": 12,
      "outputs": [
        {
          "output_type": "execute_result",
          "data": {
            "text/plain": [
              "(13, 1)"
            ]
          },
          "metadata": {},
          "execution_count": 12
        }
      ]
    },
    {
      "cell_type": "code",
      "source": [
        "plt.figure(figsize=(10,10))\n",
        "plt.xlim(140,190)\n",
        "plt.ylim(45,75)\n",
        "plt.scatter(X,y)\n",
        "plt.title(\"Data partition\")\n",
        "plt.xlabel(\"Height (cm).\")\n",
        "plt.ylabel(\"Weight (kg).\")\n",
        "plt.show()"
      ],
      "metadata": {
        "colab": {
          "base_uri": "https://localhost:8080/",
          "height": 621
        },
        "id": "fnUsjKgCFvV_",
        "outputId": "30dc601f-fa37-40a2-d76f-a9fe441e8b3c"
      },
      "execution_count": 10,
      "outputs": [
        {
          "output_type": "display_data",
          "data": {
            "text/plain": [
              "<Figure size 720x720 with 1 Axes>"
            ],
            "image/png": "[encoded data removed]"
          },
          "metadata": {
            "needs_background": "light"
          }
        }
      ]
    },
    {
      "cell_type": "code",
      "source": [
        "ones = np.ones((X.shape[0],1))\n",
        "ones"
      ],
      "metadata": {
        "colab": {
          "base_uri": "https://localhost:8080/"
        },
        "id": "oWE92vWQHJ6P",
        "outputId": "b6b386a0-ccd5-44d6-f6e3-c255bb322272"
      },
      "execution_count": 19,
      "outputs": [
        {
          "output_type": "execute_result",
          "data": {
            "text/plain": [
              "array([[1.],\n",
              "       [1.],\n",
              "       [1.],\n",
              "       [1.],\n",
              "       [1.],\n",
              "       [1.],\n",
              "       [1.],\n",
              "       [1.],\n",
              "       [1.],\n",
              "       [1.],\n",
              "       [1.],\n",
              "       [1.],\n",
              "       [1.]])"
            ]
          },
          "metadata": {},
          "execution_count": 19
        }
      ]
    },
    {
      "cell_type": "code",
      "source": [
        "bias = np.concatenate((ones,X),axis = 1)\n",
        "bias"
      ],
      "metadata": {
        "colab": {
          "base_uri": "https://localhost:8080/"
        },
        "id": "Wrc4YSPbH1SX",
        "outputId": "7adeef56-6c69-4235-e62b-1782caba804b"
      },
      "execution_count": 22,
      "outputs": [
        {
          "output_type": "execute_result",
          "data": {
            "text/plain": [
              "array([[  1., 147.],\n",
              "       [  1., 150.],\n",
              "       [  1., 153.],\n",
              "       [  1., 158.],\n",
              "       [  1., 163.],\n",
              "       [  1., 165.],\n",
              "       [  1., 168.],\n",
              "       [  1., 170.],\n",
              "       [  1., 173.],\n",
              "       [  1., 175.],\n",
              "       [  1., 178.],\n",
              "       [  1., 180.],\n",
              "       [  1., 183.]])"
            ]
          },
          "metadata": {},
          "execution_count": 22
        }
      ]
    },
    {
      "cell_type": "code",
      "source": [
        "first = np.dot(bias.T,bias)\n",
        "end = np.dot(bias.T,y)\n",
        "\n",
        "w = np.dot(np.linalg.pinv(first),end)\n",
        "w_0 = w[0][0]\n",
        "w_1 = w[1][0]"
      ],
      "metadata": {
        "colab": {
          "base_uri": "https://localhost:8080/"
        },
        "id": "PsE90MumIYjo",
        "outputId": "31ced85e-f86c-4e77-a09d-d4f4a190ee7e"
      },
      "execution_count": 35,
      "outputs": [
        {
          "output_type": "execute_result",
          "data": {
            "text/plain": [
              "0.5592049619425978"
            ]
          },
          "metadata": {},
          "execution_count": 35
        }
      ]
    },
    {
      "cell_type": "code",
      "source": [
        "y_1 = w_1 * 145 + w_0\n",
        "y_2 = w_1 * 169 + w_0\n",
        "y_1_scatter = np.array([145,169])\n",
        "y_2_scatter = np.array([y_1, y_2])"
      ],
      "metadata": {
        "id": "0Sa0E2AqK8BZ"
      },
      "execution_count": 55,
      "outputs": []
    },
    {
      "cell_type": "code",
      "source": [
        "x0 = np.linspace(145, 185, 2)\n",
        "y0 = w_0 + w_1*x0\n",
        "\n",
        "\n",
        "plt.figure( figsize=(10,10) )\n",
        "plt.plot(X.T, y.T, \"ro\")\n",
        "plt.scatter(y_1_scatter, y_2_scatter, color = 'hotpink')\n",
        "plt.plot(x0, y0)\n",
        "plt.axis([140, 190, 45, 75])\n",
        "plt.title(\"Data partition\")\n",
        "plt.xlabel('Height (cm)')\n",
        "plt.ylabel('Weight (kg)')\n",
        "plt.show()"
      ],
      "metadata": {
        "colab": {
          "base_uri": "https://localhost:8080/",
          "height": 621
        },
        "id": "LxpIvj_iLl9w",
        "outputId": "29901a35-fccc-4ca8-c100-dba1224a516b"
      },
      "execution_count": 56,
      "outputs": [
        {
          "output_type": "display_data",
          "data": {
            "text/plain": [
              "<Figure size 720x720 with 1 Axes>"
            ],
            "image/png": "[encoded data removed]"
          },
          "metadata": {
            "needs_background": "light"
          }
        }
      ]
    }
  ]
}